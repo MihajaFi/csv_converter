{
 "cells": [
  {
   "cell_type": "code",
   "execution_count": null,
   "id": "0ef15149",
   "metadata": {},
   "outputs": [],
   "source": [
    "import pandas as pd\n",
    "import os\n",
    "from IPython.display import display\n",
    "import ipywidgets as widgets"
   ]
  },
  {
   "cell_type": "markdown",
   "id": "0887e1c3",
   "metadata": {},
   "source": [
    "#  Fonction pour convertir automatiquement selon le type de fichier"
   ]
  },
  {
   "cell_type": "code",
   "execution_count": null,
   "id": "cbbd41c1",
   "metadata": {},
   "outputs": [],
   "source": [
    "def convertir_en_csv(fichier):\n",
    "    if fichier.name.endswith('.xlsx'):\n",
    "        df = pd.read_excel(fichier)\n",
    "    elif fichier.name.endswith('.xml'):\n",
    "        df = pd.read_xml(fichier)\n",
    "    else:\n",
    "        print(\"Format non supporté. Choisis un fichier .xlsx ou .xml.\")\n",
    "        return\n",
    "    \n",
    "    nom_csv = fichier.name.rsplit('.', 1)[0] + '.csv'\n",
    "    \n",
    "    df.to_csv(nom_csv, index=False)\n",
    "    \n",
    "    print(f\"Fichier converti avec succès ! Enregistré sous : {nom_csv}\")"
   ]
  },
  {
   "cell_type": "markdown",
   "id": "949c7b67",
   "metadata": {},
   "source": [
    "# Interface : bouton pour choisir un fichier"
   ]
  },
  {
   "cell_type": "code",
   "execution_count": null,
   "id": "6de667c3",
   "metadata": {},
   "outputs": [],
   "source": [
    "\n",
    "upload = widgets.FileUpload(\n",
    "    accept='.xml,.xlsx', \n",
    "    multiple=False\n",
    ")"
   ]
  },
  {
   "cell_type": "markdown",
   "id": "c0470e8b",
   "metadata": {},
   "source": [
    "# Bouton de conversion"
   ]
  },
  {
   "cell_type": "code",
   "execution_count": null,
   "id": "3a085d60",
   "metadata": {},
   "outputs": [],
   "source": [
    "\n",
    "bouton_convertir = widgets.Button(description=\"Convertir en CSV\")"
   ]
  },
  {
   "cell_type": "code",
   "execution_count": null,
   "id": "51a88d0c",
   "metadata": {},
   "outputs": [],
   "source": [
    "def quand_on_clique(b):\n",
    "    if upload.value:\n",
    "        fichier_info = upload.value[0]\n",
    "\n",
    "        fichier_nom = fichier_info['name']\n",
    "        contenu = fichier_info['content']\n",
    "\n",
    "        with open(fichier_nom, 'wb') as f:\n",
    "            f.write(contenu)\n",
    "\n",
    "        with open(fichier_nom, 'rb') as f:\n",
    "            convertir_en_csv(f)\n",
    "\n",
    "\n",
    "bouton_convertir.on_click(quand_on_clique)\n",
    "\n",
    "display(upload, bouton_convertir)"
   ]
  }
 ],
 "metadata": {
  "kernelspec": {
   "display_name": "Python 3.11.3 64-bit",
   "language": "python",
   "name": "python3"
  },
  "language_info": {
   "codemirror_mode": {
    "name": "ipython",
    "version": 3
   },
   "file_extension": ".py",
   "mimetype": "text/x-python",
   "name": "python",
   "nbconvert_exporter": "python",
   "pygments_lexer": "ipython3",
   "version": "3.11.3"
  },
  "vscode": {
   "interpreter": {
    "hash": "5238573367df39f7286bb46f9ff5f08f63a01a80960060ce41e3c79b190280fa"
   }
  }
 },
 "nbformat": 4,
 "nbformat_minor": 5
}
