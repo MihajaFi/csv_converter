{
 "cells": [
  {
   "cell_type": "code",
   "execution_count": 1,
   "id": "0ef15149",
   "metadata": {},
   "outputs": [],
   "source": [
    "import pandas as pd\n",
    "import os\n",
    "from IPython.display import display\n",
    "import ipywidgets as widgets"
   ]
  },
  {
   "cell_type": "code",
   "execution_count": 2,
   "id": "cbbd41c1",
   "metadata": {},
   "outputs": [],
   "source": [
    "# 📄 Fonction pour convertir automatiquement selon le type de fichier\n",
    "def convertir_en_csv(fichier):\n",
    "    if fichier.name.endswith('.xlsx'):\n",
    "        df = pd.read_excel(fichier)\n",
    "    elif fichier.name.endswith('.xml'):\n",
    "        df = pd.read_xml(fichier)\n",
    "    else:\n",
    "        print(\"❌ Format non supporté. Choisis un fichier .xlsx ou .xml.\")\n",
    "        return\n",
    "    \n",
    "    # 🔁 On crée un nom de fichier CSV à partir du nom d’origine\n",
    "    nom_csv = fichier.name.rsplit('.', 1)[0] + '.csv'\n",
    "    \n",
    "    # 💾 On enregistre les données dans un fichier CSV\n",
    "    df.to_csv(nom_csv, index=False)\n",
    "    \n",
    "    print(f\"✅ Fichier converti avec succès ! Enregistré sous : {nom_csv}\")"
   ]
  },
  {
   "cell_type": "code",
   "execution_count": 3,
   "id": "6de667c3",
   "metadata": {},
   "outputs": [],
   "source": [
    "# 🎛️ Interface : bouton pour choisir un fichier\n",
    "upload = widgets.FileUpload(\n",
    "    accept='.xml,.xlsx',  # On autorise que XML ou Excel\n",
    "    multiple=False         # Juste un fichier à la fois\n",
    ")"
   ]
  },
  {
   "cell_type": "code",
   "execution_count": 4,
   "id": "3a085d60",
   "metadata": {},
   "outputs": [],
   "source": [
    "# 🎯 Bouton de conversion\n",
    "bouton_convertir = widgets.Button(description=\"Convertir en CSV\")"
   ]
  },
  {
   "cell_type": "code",
   "execution_count": 10,
   "id": "51a88d0c",
   "metadata": {},
   "outputs": [
    {
     "data": {
      "application/vnd.jupyter.widget-view+json": {
       "model_id": "58652d0b50354a3a80e489e2c0fef051",
       "version_major": 2,
       "version_minor": 0
      },
      "text/plain": [
       "FileUpload(value=({'name': 'exemple.xlsx', 'type': 'application/vnd.openxmlformats-officedocument.spreadsheetm…"
      ]
     },
     "metadata": {},
     "output_type": "display_data"
    },
    {
     "data": {
      "application/vnd.jupyter.widget-view+json": {
       "model_id": "c434ae592b444a3e8e91af2d7ec3bdfe",
       "version_major": 2,
       "version_minor": 0
      },
      "text/plain": [
       "Button(description='Convertir en CSV', style=ButtonStyle())"
      ]
     },
     "metadata": {},
     "output_type": "display_data"
    },
    {
     "ename": "AttributeError",
     "evalue": "'tuple' object has no attribute 'values'",
     "output_type": "error",
     "traceback": [
      "\u001b[1;31m---------------------------------------------------------------------------\u001b[0m",
      "\u001b[1;31mAttributeError\u001b[0m                            Traceback (most recent call last)",
      "Cell \u001b[1;32mIn[6], line 4\u001b[0m, in \u001b[0;36mquand_on_clique\u001b[1;34m(b)\u001b[0m\n\u001b[0;32m      2\u001b[0m \u001b[38;5;28;01mdef\u001b[39;00m \u001b[38;5;21mquand_on_clique\u001b[39m(b):\n\u001b[0;32m      3\u001b[0m     \u001b[38;5;28;01mif\u001b[39;00m upload\u001b[38;5;241m.\u001b[39mvalue:\n\u001b[1;32m----> 4\u001b[0m         fichier_info \u001b[38;5;241m=\u001b[39m \u001b[38;5;28mnext\u001b[39m(\u001b[38;5;28miter\u001b[39m(\u001b[43mupload\u001b[49m\u001b[38;5;241;43m.\u001b[39;49m\u001b[43mvalue\u001b[49m\u001b[38;5;241;43m.\u001b[39;49m\u001b[43mvalues\u001b[49m()))\n\u001b[0;32m      5\u001b[0m         fichier_nom \u001b[38;5;241m=\u001b[39m fichier_info[\u001b[38;5;124m'\u001b[39m\u001b[38;5;124mmetadata\u001b[39m\u001b[38;5;124m'\u001b[39m][\u001b[38;5;124m'\u001b[39m\u001b[38;5;124mname\u001b[39m\u001b[38;5;124m'\u001b[39m]\n\u001b[0;32m      6\u001b[0m         contenu \u001b[38;5;241m=\u001b[39m fichier_info[\u001b[38;5;124m'\u001b[39m\u001b[38;5;124mcontent\u001b[39m\u001b[38;5;124m'\u001b[39m]\n",
      "\u001b[1;31mAttributeError\u001b[0m: 'tuple' object has no attribute 'values'"
     ]
    },
    {
     "ename": "AttributeError",
     "evalue": "'tuple' object has no attribute 'values'",
     "output_type": "error",
     "traceback": [
      "\u001b[1;31m---------------------------------------------------------------------------\u001b[0m",
      "\u001b[1;31mAttributeError\u001b[0m                            Traceback (most recent call last)",
      "Cell \u001b[1;32mIn[6], line 4\u001b[0m, in \u001b[0;36mquand_on_clique\u001b[1;34m(b)\u001b[0m\n\u001b[0;32m      2\u001b[0m \u001b[38;5;28;01mdef\u001b[39;00m \u001b[38;5;21mquand_on_clique\u001b[39m(b):\n\u001b[0;32m      3\u001b[0m     \u001b[38;5;28;01mif\u001b[39;00m upload\u001b[38;5;241m.\u001b[39mvalue:\n\u001b[1;32m----> 4\u001b[0m         fichier_info \u001b[38;5;241m=\u001b[39m \u001b[38;5;28mnext\u001b[39m(\u001b[38;5;28miter\u001b[39m(\u001b[43mupload\u001b[49m\u001b[38;5;241;43m.\u001b[39;49m\u001b[43mvalue\u001b[49m\u001b[38;5;241;43m.\u001b[39;49m\u001b[43mvalues\u001b[49m()))\n\u001b[0;32m      5\u001b[0m         fichier_nom \u001b[38;5;241m=\u001b[39m fichier_info[\u001b[38;5;124m'\u001b[39m\u001b[38;5;124mmetadata\u001b[39m\u001b[38;5;124m'\u001b[39m][\u001b[38;5;124m'\u001b[39m\u001b[38;5;124mname\u001b[39m\u001b[38;5;124m'\u001b[39m]\n\u001b[0;32m      6\u001b[0m         contenu \u001b[38;5;241m=\u001b[39m fichier_info[\u001b[38;5;124m'\u001b[39m\u001b[38;5;124mcontent\u001b[39m\u001b[38;5;124m'\u001b[39m]\n",
      "\u001b[1;31mAttributeError\u001b[0m: 'tuple' object has no attribute 'values'"
     ]
    },
    {
     "ename": "KeyError",
     "evalue": "'metadata'",
     "output_type": "error",
     "traceback": [
      "\u001b[1;31m---------------------------------------------------------------------------\u001b[0m",
      "\u001b[1;31mKeyError\u001b[0m                                  Traceback (most recent call last)",
      "Cell \u001b[1;32mIn[8], line 5\u001b[0m, in \u001b[0;36mquand_on_clique\u001b[1;34m(b)\u001b[0m\n\u001b[0;32m      3\u001b[0m \u001b[38;5;28;01mif\u001b[39;00m upload\u001b[38;5;241m.\u001b[39mvalue:\n\u001b[0;32m      4\u001b[0m     fichier_info \u001b[38;5;241m=\u001b[39m upload\u001b[38;5;241m.\u001b[39mvalue[\u001b[38;5;241m0\u001b[39m]\n\u001b[1;32m----> 5\u001b[0m     fichier_nom \u001b[38;5;241m=\u001b[39m \u001b[43mfichier_info\u001b[49m\u001b[43m[\u001b[49m\u001b[38;5;124;43m'\u001b[39;49m\u001b[38;5;124;43mmetadata\u001b[39;49m\u001b[38;5;124;43m'\u001b[39;49m\u001b[43m]\u001b[49m[\u001b[38;5;124m'\u001b[39m\u001b[38;5;124mname\u001b[39m\u001b[38;5;124m'\u001b[39m]\n\u001b[0;32m      6\u001b[0m     contenu \u001b[38;5;241m=\u001b[39m fichier_info[\u001b[38;5;124m'\u001b[39m\u001b[38;5;124mcontent\u001b[39m\u001b[38;5;124m'\u001b[39m]\n\u001b[0;32m      8\u001b[0m     \u001b[38;5;66;03m# 🔧 On sauvegarde temporairement le fichier\u001b[39;00m\n",
      "\u001b[1;31mKeyError\u001b[0m: 'metadata'"
     ]
    },
    {
     "ename": "KeyError",
     "evalue": "'metadata'",
     "output_type": "error",
     "traceback": [
      "\u001b[1;31m---------------------------------------------------------------------------\u001b[0m",
      "\u001b[1;31mKeyError\u001b[0m                                  Traceback (most recent call last)",
      "Cell \u001b[1;32mIn[8], line 5\u001b[0m, in \u001b[0;36mquand_on_clique\u001b[1;34m(b)\u001b[0m\n\u001b[0;32m      3\u001b[0m \u001b[38;5;28;01mif\u001b[39;00m upload\u001b[38;5;241m.\u001b[39mvalue:\n\u001b[0;32m      4\u001b[0m     fichier_info \u001b[38;5;241m=\u001b[39m upload\u001b[38;5;241m.\u001b[39mvalue[\u001b[38;5;241m0\u001b[39m]\n\u001b[1;32m----> 5\u001b[0m     fichier_nom \u001b[38;5;241m=\u001b[39m \u001b[43mfichier_info\u001b[49m\u001b[43m[\u001b[49m\u001b[38;5;124;43m'\u001b[39;49m\u001b[38;5;124;43mmetadata\u001b[39;49m\u001b[38;5;124;43m'\u001b[39;49m\u001b[43m]\u001b[49m[\u001b[38;5;124m'\u001b[39m\u001b[38;5;124mname\u001b[39m\u001b[38;5;124m'\u001b[39m]\n\u001b[0;32m      6\u001b[0m     contenu \u001b[38;5;241m=\u001b[39m fichier_info[\u001b[38;5;124m'\u001b[39m\u001b[38;5;124mcontent\u001b[39m\u001b[38;5;124m'\u001b[39m]\n\u001b[0;32m      8\u001b[0m     \u001b[38;5;66;03m# 🔧 On sauvegarde temporairement le fichier\u001b[39;00m\n",
      "\u001b[1;31mKeyError\u001b[0m: 'metadata'"
     ]
    },
    {
     "ename": "AttributeError",
     "evalue": "'tuple' object has no attribute 'values'",
     "output_type": "error",
     "traceback": [
      "\u001b[1;31m---------------------------------------------------------------------------\u001b[0m",
      "\u001b[1;31mAttributeError\u001b[0m                            Traceback (most recent call last)",
      "Cell \u001b[1;32mIn[9], line 4\u001b[0m, in \u001b[0;36mquand_on_clique\u001b[1;34m(b)\u001b[0m\n\u001b[0;32m      1\u001b[0m \u001b[38;5;28;01mdef\u001b[39;00m \u001b[38;5;21mquand_on_clique\u001b[39m(b):\n\u001b[0;32m      2\u001b[0m     \u001b[38;5;28;01mif\u001b[39;00m upload\u001b[38;5;241m.\u001b[39mvalue:\n\u001b[0;32m      3\u001b[0m         \u001b[38;5;66;03m# Récupère le dictionnaire du fichier chargé\u001b[39;00m\n\u001b[1;32m----> 4\u001b[0m         fichier_info \u001b[38;5;241m=\u001b[39m \u001b[38;5;28mlist\u001b[39m(\u001b[43mupload\u001b[49m\u001b[38;5;241;43m.\u001b[39;49m\u001b[43mvalue\u001b[49m\u001b[38;5;241;43m.\u001b[39;49m\u001b[43mvalues\u001b[49m())[\u001b[38;5;241m0\u001b[39m]\n\u001b[0;32m      6\u001b[0m         \u001b[38;5;66;03m# On récupère le nom et le contenu\u001b[39;00m\n\u001b[0;32m      7\u001b[0m         fichier_nom \u001b[38;5;241m=\u001b[39m fichier_info[\u001b[38;5;124m'\u001b[39m\u001b[38;5;124mname\u001b[39m\u001b[38;5;124m'\u001b[39m]\n",
      "\u001b[1;31mAttributeError\u001b[0m: 'tuple' object has no attribute 'values'"
     ]
    },
    {
     "name": "stdout",
     "output_type": "stream",
     "text": [
      "✅ Fichier converti avec succès ! Enregistré sous : exemple.csv\n"
     ]
    }
   ],
   "source": [
    "def quand_on_clique(b):\n",
    "    if upload.value:\n",
    "        # Récupère le dictionnaire du fichier chargé\n",
    "        fichier_info = upload.value[0]\n",
    "\n",
    "        # On récupère le nom et le contenu\n",
    "        fichier_nom = fichier_info['name']\n",
    "        contenu = fichier_info['content']\n",
    "\n",
    "        # Sauvegarde temporaire du fichier\n",
    "        with open(fichier_nom, 'wb') as f:\n",
    "            f.write(contenu)\n",
    "\n",
    "        # Ouvre le fichier et convertit\n",
    "        with open(fichier_nom, 'rb') as f:\n",
    "            convertir_en_csv(f)\n",
    "\n",
    "\n",
    "# 🔗 Lier le clic au bouton\n",
    "bouton_convertir.on_click(quand_on_clique)\n",
    "\n",
    "# 📺 Affichage de l'interface\n",
    "display(upload, bouton_convertir)"
   ]
  },
  {
   "cell_type": "code",
   "execution_count": null,
   "id": "be700e84",
   "metadata": {},
   "outputs": [],
   "source": []
  },
  {
   "cell_type": "code",
   "execution_count": null,
   "id": "e6c0908a",
   "metadata": {},
   "outputs": [],
   "source": []
  },
  {
   "cell_type": "code",
   "execution_count": null,
   "id": "3bc3e242",
   "metadata": {},
   "outputs": [],
   "source": []
  },
  {
   "cell_type": "code",
   "execution_count": null,
   "id": "8fdfae81",
   "metadata": {},
   "outputs": [],
   "source": []
  },
  {
   "cell_type": "code",
   "execution_count": null,
   "id": "15eaa46b",
   "metadata": {},
   "outputs": [],
   "source": []
  },
  {
   "cell_type": "code",
   "execution_count": null,
   "id": "9d4c674e",
   "metadata": {},
   "outputs": [],
   "source": []
  },
  {
   "cell_type": "code",
   "execution_count": null,
   "id": "9d85d847",
   "metadata": {},
   "outputs": [],
   "source": []
  },
  {
   "cell_type": "code",
   "execution_count": null,
   "id": "703f6181",
   "metadata": {},
   "outputs": [],
   "source": []
  }
 ],
 "metadata": {
  "kernelspec": {
   "display_name": "Python 3 (ipykernel)",
   "language": "python",
   "name": "python3"
  },
  "language_info": {
   "codemirror_mode": {
    "name": "ipython",
    "version": 3
   },
   "file_extension": ".py",
   "mimetype": "text/x-python",
   "name": "python",
   "nbconvert_exporter": "python",
   "pygments_lexer": "ipython3",
   "version": "3.11.3"
  }
 },
 "nbformat": 4,
 "nbformat_minor": 5
}
